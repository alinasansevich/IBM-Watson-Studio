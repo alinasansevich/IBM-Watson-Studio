{
    "cells": [
        {
            "metadata": {
                "collapsed": true
            },
            "cell_type": "markdown",
            "source": "# My Jupyter Notebook on IBM Watson Studio"
        },
        {
            "metadata": {},
            "cell_type": "markdown",
            "source": "__Alina Sansevich__<br>\nData Scientist"
        },
        {
            "metadata": {},
            "cell_type": "markdown",
            "source": "_I am interested in data science because I want to redirect my career towards a path where I can apply my skills and experience in industries related to the life sciences._"
        },
        {
            "metadata": {},
            "cell_type": "markdown",
            "source": "### This program asks the user to enter a word and returns the number of each letter in the alphabet."
        },
        {
            "metadata": {},
            "cell_type": "code",
            "source": "while True:\n    user_input = input(\"Please enter a word: \")\n    if user_input.isalpha():\n        vowel_num = [(ord(char) - 96) for char in user_input.lower()]\n        break\n    else:\n        print(\"That's not a valid word. Please try again.\")\n\nprint(\"{}: \".format(user_input), end='')\n\nfor num in vowel_num:\n    print(num, end=' ')",
            "execution_count": 4,
            "outputs": [
                {
                    "output_type": "stream",
                    "name": "stdout",
                    "text": "Please enter a word: science\nscience: 19 3 9 5 14 3 5 "
                }
            ]
        },
        {
            "metadata": {},
            "cell_type": "markdown",
            "source": "##### Horizontal rule:\n---\n\n##### Bulleted List:\n- First\n- Second\n- Third\n\n\n##### Numbered List:\n1. One\n2. Two\n3. Three\n\n\n##### Table:\nIt's | a | table!\n--- | --- | ---\n1 | 2 | 3\nDo | Re | Mi\n\n\n##### Hyperlink:\n[Here's an interesting link to explore.](https://www.ibm.com/demos/)\n\n\n##### Image:\n![Coursera](https://qph.fs.quoracdn.net/main-qimg-93b60fd5cf9888c96a1e02622806d561.webp)\n\n\n##### Code/syntax highlighting:\nUsually, `print(\"Hello World!)` is most people's first program when they start learning to code.\n\n\n##### Blocked quotes:\n```python\nhello = print(\"Hello World!)\nprint(hello)\n```\n\n##### Strikethrough:\nStrikethrough looks like this: ~~Scratch this.~~"
        }
    ],
    "metadata": {
        "kernelspec": {
            "name": "python3",
            "display_name": "Python 3.7",
            "language": "python"
        },
        "language_info": {
            "name": "python",
            "version": "3.7.9",
            "mimetype": "text/x-python",
            "codemirror_mode": {
                "name": "ipython",
                "version": 3
            },
            "pygments_lexer": "ipython3",
            "nbconvert_exporter": "python",
            "file_extension": ".py"
        }
    },
    "nbformat": 4,
    "nbformat_minor": 1
}